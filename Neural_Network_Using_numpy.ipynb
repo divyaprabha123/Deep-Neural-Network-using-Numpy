{
  "nbformat": 4,
  "nbformat_minor": 0,
  "metadata": {
    "colab": {
      "name": "Neural Network Using numpy.ipynb",
      "version": "0.3.2",
      "provenance": [],
      "collapsed_sections": [],
      "include_colab_link": true
    },
    "kernelspec": {
      "name": "python3",
      "display_name": "Python 3"
    }
  },
  "cells": [
    {
      "cell_type": "markdown",
      "metadata": {
        "id": "view-in-github",
        "colab_type": "text"
      },
      "source": [
        "<a href=\"https://colab.research.google.com/github/divyaprabha123/Deep-Neural-Network-using-Numpy/blob/master/Neural_Network_Using_numpy.ipynb\" target=\"_parent\"><img src=\"https://colab.research.google.com/assets/colab-badge.svg\" alt=\"Open In Colab\"/></a>"
      ]
    },
    {
      "metadata": {
        "id": "hobU0DtvuzF5",
        "colab_type": "text"
      },
      "cell_type": "markdown",
      "source": [
        "# Deep Neural Network Using Numpy"
      ]
    },
    {
      "metadata": {
        "id": "ysUfmKKtu6KA",
        "colab_type": "code",
        "outputId": "354b03f9-d369-4385-aa8a-8f7946e5730b",
        "colab": {
          "base_uri": "https://localhost:8080/",
          "height": 388
        }
      },
      "cell_type": "code",
      "source": [
        "!pip install -U -q PyDrive\n",
        "!pip install imageio\n",
        "!pip install torch \n",
        "!pip install kaggle\n",
        "!pip install pywidgets\n",
        "\n",
        "#Data dependencies\n",
        "import pandas as pd\n",
        "import numpy as np\n",
        "import matplotlib.pyplot as plt\n",
        "plt.rcParams['figure.figsize']=[16,10]\n",
        "#Seaborn is for Visulalizations\n",
        "import seaborn as sns\n",
        "\n",
        "from sklearn.model_selection import train_test_split\n",
        "import xgboost as xgb\n",
        "\n",
        "%matplotlib inline\n",
        "plt.rcParams['axes.unicode_minus'] = False\n",
        "\n",
        "\n",
        "from oauth2client.client import GoogleCredentials\n",
        "from googleapiclient.discovery import build\n",
        "from oauth2client.client import AccessTokenCredentials\n"
      ],
      "execution_count": 8,
      "outputs": [
        {
          "output_type": "stream",
          "text": [
            "Requirement already satisfied: imageio in /usr/local/lib/python3.6/dist-packages (2.4.1)\n",
            "Requirement already satisfied: numpy in /usr/local/lib/python3.6/dist-packages (from imageio) (1.14.6)\n",
            "Requirement already satisfied: pillow in /usr/local/lib/python3.6/dist-packages (from imageio) (4.0.0)\n",
            "Requirement already satisfied: olefile in /usr/local/lib/python3.6/dist-packages (from pillow->imageio) (0.46)\n",
            "Requirement already satisfied: torch in /usr/local/lib/python3.6/dist-packages (1.0.0)\n",
            "Requirement already satisfied: kaggle in /usr/local/lib/python3.6/dist-packages (1.5.1.1)\n",
            "Requirement already satisfied: urllib3<1.23.0,>=1.15 in /usr/local/lib/python3.6/dist-packages (from kaggle) (1.22)\n",
            "Requirement already satisfied: six>=1.10 in /usr/local/lib/python3.6/dist-packages (from kaggle) (1.11.0)\n",
            "Requirement already satisfied: certifi in /usr/local/lib/python3.6/dist-packages (from kaggle) (2018.11.29)\n",
            "Requirement already satisfied: python-dateutil in /usr/local/lib/python3.6/dist-packages (from kaggle) (2.5.3)\n",
            "Requirement already satisfied: requests in /usr/local/lib/python3.6/dist-packages (from kaggle) (2.18.4)\n",
            "Requirement already satisfied: tqdm in /usr/local/lib/python3.6/dist-packages (from kaggle) (4.28.1)\n",
            "Requirement already satisfied: python-slugify in /usr/local/lib/python3.6/dist-packages (from kaggle) (1.2.6)\n",
            "Requirement already satisfied: idna<2.7,>=2.5 in /usr/local/lib/python3.6/dist-packages (from requests->kaggle) (2.6)\n",
            "Requirement already satisfied: chardet<3.1.0,>=3.0.2 in /usr/local/lib/python3.6/dist-packages (from requests->kaggle) (3.0.4)\n",
            "Requirement already satisfied: Unidecode>=0.04.16 in /usr/local/lib/python3.6/dist-packages (from python-slugify->kaggle) (1.0.23)\n",
            "Collecting pywidgets\n",
            "\u001b[31m  Could not find a version that satisfies the requirement pywidgets (from versions: )\u001b[0m\n",
            "\u001b[31mNo matching distribution found for pywidgets\u001b[0m\n"
          ],
          "name": "stdout"
        }
      ]
    },
    {
      "metadata": {
        "id": "_r89nrJy1QTl",
        "colab_type": "text"
      },
      "cell_type": "markdown",
      "source": [
        "# **Initializing Parameters**\n",
        "\n",
        "> Initializing parameters to some small random values\n",
        "\n",
        "> **Why not initialize Weights-W by zero?**\n",
        "\n",
        "> Initializing weights to zero makes all the hidden layers to do same  computation\n",
        "\n",
        "> \n",
        "\n",
        "\n",
        "\n",
        "\n",
        "\n",
        "\n",
        "\n"
      ]
    },
    {
      "metadata": {
        "id": "Nl0YW8zVvKgf",
        "colab_type": "code",
        "colab": {}
      },
      "cell_type": "code",
      "source": [
        "#initialize parameters to random values and store it in the dictionary\n",
        "def initialize_parameters(layer_dims):\n",
        "  theta={}\n",
        "  length=len(layer_dims)\n",
        "  for i in range(1,length):\n",
        "    theta[\"W\"+str(i)]=np.random.randn(layer_dims[i],layer_dims[i-1])*0.01\n",
        "    theta[\"b\"+str(i)]=np.zeros((layer_dims[i],1))\n",
        "  return theta"
      ],
      "execution_count": 0,
      "outputs": []
    },
    {
      "metadata": {
        "id": "bPWXOSN507Rs",
        "colab_type": "code",
        "outputId": "ae171b6b-9a09-4ee1-bff6-e770a3a7e50a",
        "colab": {
          "base_uri": "https://localhost:8080/",
          "height": 146
        }
      },
      "cell_type": "code",
      "source": [
        "print(initialize_parameters([5,3,2]))"
      ],
      "execution_count": 10,
      "outputs": [
        {
          "output_type": "stream",
          "text": [
            "{'W1': array([[-0.00212206, -0.019455  ,  0.00255424, -0.00349326, -0.0144133 ],\n",
            "       [ 0.00319651,  0.0107721 ,  0.01042214, -0.00640111, -0.01314825],\n",
            "       [-0.00075329, -0.00015539,  0.0148566 , -0.00242487,  0.00446768]]), 'b1': array([[0.],\n",
            "       [0.],\n",
            "       [0.]]), 'W2': array([[-0.01096511,  0.00421075,  0.01611482],\n",
            "       [-0.00729272,  0.01615008,  0.00050234]]), 'b2': array([[0.],\n",
            "       [0.]])}\n"
          ],
          "name": "stdout"
        }
      ]
    },
    {
      "metadata": {
        "id": "B0ZUQuGU3LYV",
        "colab_type": "text"
      },
      "cell_type": "markdown",
      "source": [
        "# Forward Propagation"
      ]
    },
    {
      "metadata": {
        "id": "v9BzoJFp66kW",
        "colab_type": "code",
        "colab": {}
      },
      "cell_type": "code",
      "source": [
        "def sigmoid(Z):\n",
        "  A=1/(1+np.exp(-Z))\n",
        "  cache=Z\n",
        "  return A,cache"
      ],
      "execution_count": 0,
      "outputs": []
    },
    {
      "metadata": {
        "id": "4es8IvVr-NEn",
        "colab_type": "code",
        "colab": {}
      },
      "cell_type": "code",
      "source": [
        "def linear_forward(A, W, b):\n",
        "    Z = np.dot(W,A)+b\n",
        "    cache = (A, W, b)\n",
        "    return Z, cache"
      ],
      "execution_count": 0,
      "outputs": []
    },
    {
      "metadata": {
        "id": "QF9Cy0uA56El",
        "colab_type": "code",
        "colab": {}
      },
      "cell_type": "code",
      "source": [
        "theta=initialize_parameters([4,2,1])"
      ],
      "execution_count": 0,
      "outputs": []
    },
    {
      "metadata": {
        "id": "JRGIrZ6G7MU7",
        "colab_type": "code",
        "outputId": "67edc03c-7e8c-4b32-a496-196f92d226d4",
        "colab": {
          "base_uri": "https://localhost:8080/",
          "height": 72
        }
      },
      "cell_type": "code",
      "source": [
        "print(theta)"
      ],
      "execution_count": 29,
      "outputs": [
        {
          "output_type": "stream",
          "text": [
            "{'W1': array([[-0.01158071, -0.01359675,  0.00520276, -0.00068084],\n",
            "       [-0.01283808, -0.01333248, -0.00261968,  0.00359549]]), 'b1': array([[0.],\n",
            "       [0.]]), 'W2': array([[-0.00194726, -0.00363561]]), 'b2': array([[0.]])}\n"
          ],
          "name": "stdout"
        }
      ]
    },
    {
      "metadata": {
        "id": "KUltkSRd7OpF",
        "colab_type": "code",
        "colab": {}
      },
      "cell_type": "code",
      "source": [
        "X=np.random.randn(4,5)\n",
        "cache=[]"
      ],
      "execution_count": 0,
      "outputs": []
    },
    {
      "metadata": {
        "id": "EirukqNWB1rp",
        "colab_type": "code",
        "colab": {}
      },
      "cell_type": "code",
      "source": [
        "def forward_propagation(A_prev,W,b,activation=\"sigmoid\"):\n",
        "  Z,linear_cache = linear_forward(A_prev,W,b)\n",
        "  print(\"Z\",Z)\n",
        "  print(\"linear cache \",linear_cache)\n",
        "  A,activation_cache = sigmoid(Z)\n",
        "  cache=(linear_cache,activation_cache)\n",
        "  return A,cache"
      ],
      "execution_count": 0,
      "outputs": []
    },
    {
      "metadata": {
        "id": "gkcVI7rT7j1b",
        "colab_type": "code",
        "colab": {}
      },
      "cell_type": "code",
      "source": [
        "def forward_propagation_deep(X,theta):\n",
        "  caches=[]\n",
        "  length=len(theta)//2\n",
        "  A=X\n",
        "  for l in range(1,length):\n",
        "    A_prev=A\n",
        "    A,cache=forward_propagation(A_prev,theta[\"W\"+str(l)],theta[\"b\"+str(l)],activation = \"sigmoid\")\n",
        "    caches.append(cache)\n",
        "    None\n",
        "  #AL,cache=forward_propagation(A,theta[\"W\"+str(length)],theta[\"b\"+str(length)])\n",
        "  #caches=caches.append(cache)\n",
        "  #None\n",
        "  return A,caches"
      ],
      "execution_count": 0,
      "outputs": []
    },
    {
      "metadata": {
        "id": "f1lMTC6_DzWW",
        "colab_type": "code",
        "outputId": "a5078778-48be-417e-f1bd-70e9fe65587d",
        "colab": {
          "base_uri": "https://localhost:8080/",
          "height": 185
        }
      },
      "cell_type": "code",
      "source": [
        "Al,caches=forward_propagation_deep(X,theta)"
      ],
      "execution_count": 35,
      "outputs": [
        {
          "output_type": "stream",
          "text": [
            "Z [[-0.00602368  0.001568    0.00683232 -0.0302349   0.00487249]\n",
            " [-0.01484669 -0.00703155  0.01253823 -0.0295044  -0.0007969 ]]\n",
            "linear cache  (array([[ 0.63103553,  0.81163415,  0.25023598,  0.28695278,  1.13197823],\n",
            "       [ 0.2637486 , -0.41282183, -1.09872419,  1.88794221, -1.26845043],\n",
            "       [ 0.90484571,  1.05246531, -1.06234836, -0.28999149,  0.02834005],\n",
            "       [-0.2387923 ,  0.17840925, -0.4675173 , -0.39193966, -0.86269733]]), array([[-0.01158071, -0.01359675,  0.00520276, -0.00068084],\n",
            "       [-0.01283808, -0.01333248, -0.00261968,  0.00359549]]), array([[0.],\n",
            "       [0.]]))\n"
          ],
          "name": "stdout"
        }
      ]
    },
    {
      "metadata": {
        "id": "eqM31eaFESKn",
        "colab_type": "code",
        "colab": {
          "base_uri": "https://localhost:8080/",
          "height": 166
        },
        "outputId": "0beaa3bf-3849-4219-8856-522670a03358"
      },
      "cell_type": "code",
      "source": [
        "print(caches)"
      ],
      "execution_count": 36,
      "outputs": [
        {
          "output_type": "stream",
          "text": [
            "[((array([[ 0.63103553,  0.81163415,  0.25023598,  0.28695278,  1.13197823],\n",
            "       [ 0.2637486 , -0.41282183, -1.09872419,  1.88794221, -1.26845043],\n",
            "       [ 0.90484571,  1.05246531, -1.06234836, -0.28999149,  0.02834005],\n",
            "       [-0.2387923 ,  0.17840925, -0.4675173 , -0.39193966, -0.86269733]]), array([[-0.01158071, -0.01359675,  0.00520276, -0.00068084],\n",
            "       [-0.01283808, -0.01333248, -0.00261968,  0.00359549]]), array([[0.],\n",
            "       [0.]])), array([[-0.00602368,  0.001568  ,  0.00683232, -0.0302349 ,  0.00487249],\n",
            "       [-0.01484669, -0.00703155,  0.01253823, -0.0295044 , -0.0007969 ]]))]\n"
          ],
          "name": "stdout"
        }
      ]
    },
    {
      "metadata": {
        "id": "-T5MKxs6FKtA",
        "colab_type": "code",
        "colab": {
          "base_uri": "https://localhost:8080/",
          "height": 54
        },
        "outputId": "033b6a75-3681-4c14-d63a-202198b5da31"
      },
      "cell_type": "code",
      "source": [
        "print(Al)"
      ],
      "execution_count": 37,
      "outputs": [
        {
          "output_type": "stream",
          "text": [
            "[[0.49849408 0.500392   0.50170807 0.49244185 0.50121812]\n",
            " [0.49628839 0.49824212 0.50313452 0.49262443 0.49980077]]\n"
          ],
          "name": "stdout"
        }
      ]
    },
    {
      "metadata": {
        "id": "cVvwNVi9FjeR",
        "colab_type": "code",
        "colab": {}
      },
      "cell_type": "code",
      "source": [
        "def cost(Al,Y):\n",
        "  m=Y.shape[0]\n",
        "  cost = (-1/m)*np.sum(Y*np.log(Al)+((1+Y)*np.log(1-Al)))\n",
        "  return cost"
      ],
      "execution_count": 0,
      "outputs": []
    },
    {
      "metadata": {
        "id": "fEKd-B31KEpk",
        "colab_type": "code",
        "colab": {}
      },
      "cell_type": "code",
      "source": [
        "Y=np.array([1,0,0,0,1])"
      ],
      "execution_count": 0,
      "outputs": []
    },
    {
      "metadata": {
        "id": "3EUMail3KRkY",
        "colab_type": "code",
        "outputId": "c555e305-fc90-4f27-84d5-b773e73fce27",
        "colab": {
          "base_uri": "https://localhost:8080/",
          "height": 35
        }
      },
      "cell_type": "code",
      "source": [
        "print(cost(Al,Y))"
      ],
      "execution_count": 40,
      "outputs": [
        {
          "output_type": "stream",
          "text": [
            "2.4891392326268384\n"
          ],
          "name": "stdout"
        }
      ]
    },
    {
      "metadata": {
        "id": "CxalfSn9z2Cg",
        "colab_type": "text"
      },
      "cell_type": "markdown",
      "source": [
        "# Backward Propagation"
      ]
    },
    {
      "metadata": {
        "id": "gMUnZ32Y1noO",
        "colab_type": "code",
        "colab": {}
      },
      "cell_type": "code",
      "source": [
        "def sigmoid_backward(dA,cache):\n",
        "  Z=cache\n",
        "  sigmoid=1/(1+np.exp(-Z))\n",
        "  dZ=dA*sigmoid*(1-sigmoid)\n",
        "  return dZ"
      ],
      "execution_count": 0,
      "outputs": []
    },
    {
      "metadata": {
        "id": "7JYG8ZRaz1Lx",
        "colab_type": "code",
        "colab": {}
      },
      "cell_type": "code",
      "source": [
        "def backward(dz,cache):\n",
        "  A_prev,W,b = cache\n",
        "  dW=(1/m)*np.sum(np.dot(dz,A_prev.T))\n",
        "  db=(1/m)*np.sum(dz)\n",
        "  dA_prev=np.dot(W,dz)\n",
        "  return dA_prev,dW,db"
      ],
      "execution_count": 0,
      "outputs": []
    },
    {
      "metadata": {
        "id": "g9CAxh3lKTk7",
        "colab_type": "code",
        "colab": {}
      },
      "cell_type": "code",
      "source": [
        "def backward_activation(dA, cache, activation):\n",
        "  linear_cache,activation_cache = cache\n",
        "  dZ = sigmoid_backward(dA,activation_cache)\n",
        "  dA_prev, dW, db=backward(dZ,linear_cache)\n",
        "  return dA_prev, dW, db"
      ],
      "execution_count": 0,
      "outputs": []
    },
    {
      "metadata": {
        "id": "Tdf8lY0g4q5D",
        "colab_type": "code",
        "colab": {}
      },
      "cell_type": "code",
      "source": [
        "def backward_deep(Al,Y,caches):\n",
        "    grads = {}\n",
        "    L = len(caches) \n",
        "    m = Al.shape[1]\n",
        "    Y = Y.reshape(Al.shape)\n",
        "    dAL =  - (np.divide(Y, Al - np.divide(1 - Y, 1 - AL))\n",
        "    "
      ],
      "execution_count": 0,
      "outputs": []
    },
    {
      "metadata": {
        "id": "Q2oled30-o2S",
        "colab_type": "code",
        "colab": {}
      },
      "cell_type": "code",
      "source": [
        ""
      ],
      "execution_count": 0,
      "outputs": []
    }
  ]
}